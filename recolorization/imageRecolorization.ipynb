{
 "cells": [
  {
   "cell_type": "code",
   "execution_count": 1,
   "metadata": {},
   "outputs": [
    {
     "name": "stdout",
     "output_type": "stream",
     "text": [
      "(10000, 224, 224, 2)\n",
      "(25000, 224, 224)\n"
     ]
    }
   ],
   "source": [
    "# Libraries\n",
    "import numpy as np\n",
    "import matplotlib.pyplot as plt\n",
    "%matplotlib inline\n",
    "import cv2\n",
    "images_gray = np.load('./l/gray_scale.npy')\n",
    "images_lab = np.load('./ab/ab/ab1.npy')\n",
    "#images_lab = np.append(images_lab,np.load('./ab/ab/ab2.npy'), axis=0)\n",
    "#images_lab = np.append(images_lab,np.load('./ab/ab/ab3.npy'), axis=0)\n",
    "print(images_lab.shape)\n",
    "print(images_gray.shape)"
   ]
  },
  {
   "cell_type": "code",
   "execution_count": 2,
   "metadata": {},
   "outputs": [
    {
     "name": "stderr",
     "output_type": "stream",
     "text": [
      "Using TensorFlow backend.\n"
     ]
    },
    {
     "name": "stdout",
     "output_type": "stream",
     "text": [
      "1.10.0\n"
     ]
    }
   ],
   "source": [
    "from __future__ import absolute_import, division, print_function\n",
    "\n",
    "import tensorflow as tf\n",
    "from tensorflow import keras\n",
    "\n",
    "import os\n",
    "import cv2 # for image resizing\n",
    "import numpy as np\n",
    "import pandas as pd\n",
    "\n",
    "from sklearn.model_selection import train_test_split\n",
    "from keras.backend.tensorflow_backend import set_session\n",
    "config = tf.ConfigProto()\n",
    "config.gpu_options.allow_growth = True  # dynamically grow the memory used on the GPU\n",
    "config.log_device_placement = True  # to log device placement (on which device the operation ran)\n",
    "\n",
    "sess = tf.Session(config=config)\n",
    "set_session(sess)  # set this TensorFlow session as the default session for Keras\n",
    "print(tf.__version__)"
   ]
  },
  {
   "cell_type": "code",
   "execution_count": 40,
   "metadata": {},
   "outputs": [],
   "source": [
    "from keras.preprocessing.image import ImageDataGenerator\n",
    "from keras.models import Model\n",
    "from keras.layers import *\n",
    "from keras.callbacks import LearningRateScheduler, ModelCheckpoint\n",
    "import keras.backend as K\n",
    "from matplotlib.pyplot import imsave\n",
    "from skimage.color import lab2rgb\n",
    "from keras.applications import InceptionResNetV2\n",
    "import skimage.color as skc\n",
    "import skimage.transform as skt"
   ]
  },
  {
   "cell_type": "code",
   "execution_count": 4,
   "metadata": {},
   "outputs": [
    {
     "name": "stdout",
     "output_type": "stream",
     "text": [
      "(10000, 224, 224, 2)\n",
      "(25000, 224, 224)\n"
     ]
    }
   ],
   "source": [
    "images_gray = np.load('./l/gray_scale.npy')\n",
    "images_lab = np.load('./ab/ab/ab2.npy')\n",
    "#images_lab = np.append(images_lab,np.load('./ab/ab/ab2.npy'), axis=0)\n",
    "#images_lab = np.append(images_lab,np.load('./ab/ab/ab3.npy'), axis=0)\n",
    "print(images_lab.shape)\n",
    "print(images_gray.shape)\n",
    "\n",
    "train_gray = images_gray[10000:14000,:,:]\n",
    "train_lab = images_lab[:4000,:,:,:]\n",
    "\n",
    "#val_gray = images_gray[8000:10000:,:]\n",
    "#val_lab = images_lab[8000:10000,:,:]\n",
    "\n",
    "train_gray = train_gray.reshape(4000,224,224,1)\n",
    "#val_gray = val_gray.reshape(2000,224,224,1)\n",
    "#val_gray.shape\n",
    "del images_gray\n",
    "del images_lab"
   ]
  },
  {
   "cell_type": "code",
   "execution_count": 5,
   "metadata": {},
   "outputs": [
    {
     "name": "stdout",
     "output_type": "stream",
     "text": [
      "_________________________________________________________________\n",
      "Layer (type)                 Output Shape              Param #   \n",
      "=================================================================\n",
      "input_img (InputLayer)       (None, 224, 224, 1)       0         \n",
      "_________________________________________________________________\n",
      "Conv1_1 (Conv2D)             (None, 224, 224, 64)      640       \n",
      "_________________________________________________________________\n",
      "Conv1_2 (Conv2D)             (None, 224, 224, 64)      36928     \n",
      "_________________________________________________________________\n",
      "bn_1 (BatchNormalization)    (None, 224, 224, 64)      256       \n",
      "_________________________________________________________________\n",
      "pool_1 (MaxPooling2D)        (None, 112, 112, 64)      0         \n",
      "_________________________________________________________________\n",
      "dropout_1 (Dropout)          (None, 112, 112, 64)      0         \n",
      "_________________________________________________________________\n",
      "Conv2_1 (Conv2D)             (None, 112, 112, 128)     73856     \n",
      "_________________________________________________________________\n",
      "Conv2_2 (Conv2D)             (None, 112, 112, 128)     147584    \n",
      "_________________________________________________________________\n",
      "bn_2 (BatchNormalization)    (None, 112, 112, 128)     512       \n",
      "_________________________________________________________________\n",
      "pool_2 (MaxPooling2D)        (None, 56, 56, 128)       0         \n",
      "_________________________________________________________________\n",
      "dropout_2 (Dropout)          (None, 56, 56, 128)       0         \n",
      "_________________________________________________________________\n",
      "Conv3_1 (Conv2D)             (None, 56, 56, 256)       295168    \n",
      "_________________________________________________________________\n",
      "Conv3_2 (Conv2D)             (None, 56, 56, 256)       590080    \n",
      "_________________________________________________________________\n",
      "bn_3 (BatchNormalization)    (None, 56, 56, 256)       1024      \n",
      "_________________________________________________________________\n",
      "pool_3 (MaxPooling2D)        (None, 28, 28, 256)       0         \n",
      "_________________________________________________________________\n",
      "dropout_3 (Dropout)          (None, 28, 28, 256)       0         \n",
      "_________________________________________________________________\n",
      "Conv4_1 (Conv2D)             (None, 28, 28, 512)       1180160   \n",
      "_________________________________________________________________\n",
      "Conv4_2 (Conv2D)             (None, 28, 28, 256)       1179904   \n",
      "_________________________________________________________________\n",
      "Conv4_3 (Conv2D)             (None, 28, 28, 128)       295040    \n",
      "_________________________________________________________________\n",
      "dropout_4 (Dropout)          (None, 28, 28, 128)       0         \n",
      "_________________________________________________________________\n",
      "UpSampling5_1 (UpSampling2D) (None, 56, 56, 128)       0         \n",
      "_________________________________________________________________\n",
      "Conv5_1 (Conv2D)             (None, 56, 56, 64)        73792     \n",
      "_________________________________________________________________\n",
      "UpSampling6_1 (UpSampling2D) (None, 112, 112, 64)      0         \n",
      "_________________________________________________________________\n",
      "Conv6_1 (Conv2D)             (None, 112, 112, 32)      18464     \n",
      "_________________________________________________________________\n",
      "Conv7_1 (Conv2D)             (None, 112, 112, 2)       578       \n",
      "_________________________________________________________________\n",
      "UpSampling7_1 (UpSampling2D) (None, 224, 224, 2)       0         \n",
      "=================================================================\n",
      "Total params: 3,893,986\n",
      "Trainable params: 3,893,090\n",
      "Non-trainable params: 896\n",
      "_________________________________________________________________\n"
     ]
    }
   ],
   "source": [
    "def build_simple_model():\n",
    "    input_img = Input(shape=(224,224,1), name=\"input_img\")\n",
    "    x = Conv2D(filters=64, kernel_size=(3,3), activation=\"relu\",padding=\"same\", name=\"Conv1_1\")(input_img)\n",
    "    x = Conv2D(filters=64, kernel_size=(3,3), activation=\"relu\",padding=\"same\", name=\"Conv1_2\")(x)\n",
    "    x = BatchNormalization(name=\"bn_1\")(x)\n",
    "    x = MaxPooling2D(pool_size=(2,2),name=\"pool_1\")(x)\n",
    "    x = Dropout(rate=0.2)(x)\n",
    "    \n",
    "    x = Conv2D(filters=128,kernel_size=(3,3), activation=\"relu\",padding=\"same\", name=\"Conv2_1\")(x)\n",
    "    x = Conv2D(filters=128,kernel_size=(3,3), activation=\"relu\",padding=\"same\", name=\"Conv2_2\")(x)\n",
    "    x = BatchNormalization(name=\"bn_2\")(x)\n",
    "    x = MaxPooling2D(pool_size=(2,2),name=\"pool_2\")(x)\n",
    "    x = Dropout(rate=0.2)(x)\n",
    "    \n",
    "    x = Conv2D(filters=256, kernel_size=(3,3), activation=\"relu\",padding=\"same\", name=\"Conv3_1\")(x)\n",
    "    x = Conv2D(filters=256, kernel_size=(3,3), activation=\"relu\",padding=\"same\", name=\"Conv3_2\")(x)\n",
    "    x = BatchNormalization(name=\"bn_3\")(x)\n",
    "    x = MaxPooling2D(pool_size=(2,2),name=\"pool_3\")(x)\n",
    "    x = Dropout(rate=0.2)(x)\n",
    "    \n",
    "    x = Conv2D(filters=512, kernel_size=(3,3), activation=\"relu\",padding=\"same\", name=\"Conv4_1\")(x)\n",
    "    x = Conv2D(filters=256, kernel_size=(3,3), activation=\"relu\",padding=\"same\", name=\"Conv4_2\")(x)\n",
    "    x = Conv2D(filters=128, kernel_size=(3,3), activation=\"relu\",padding=\"same\", name=\"Conv4_3\")(x)\n",
    "    x = Dropout(rate=0.2)(x)\n",
    "    \n",
    "    x = UpSampling2D((2,2), name=\"UpSampling5_1\")(x)\n",
    "    x = Conv2D(filters=64, kernel_size=(3,3), activation=\"relu\",padding=\"same\", name=\"Conv5_1\")(x)\n",
    "    \n",
    "    x = UpSampling2D((2,2), name=\"UpSampling6_1\")(x)\n",
    "    x = Conv2D(filters=32, kernel_size=(3,3), activation=\"relu\",padding=\"same\", name=\"Conv6_1\")(x)\n",
    "    \n",
    "    x = Conv2D(filters=2, kernel_size=(3,3), activation=\"tanh\",padding=\"same\", name=\"Conv7_1\")(x)\n",
    "    x = UpSampling2D((2,2), name=\"UpSampling7_1\")(x)\n",
    "    \n",
    "    model = Model(input_img, x)\n",
    "    model.compile(optimizer='rmsprop', loss='mse', metrics=[\"accuracy\",'mse'])\n",
    "    return model\n",
    "\n",
    "model = build_simple_model()\n",
    "model.summary()\n",
    "    "
   ]
  },
  {
   "cell_type": "code",
   "execution_count": 6,
   "metadata": {},
   "outputs": [],
   "source": [
    "save_model_path = './small_conv_net.h5'\n",
    "cp = tf.keras.callbacks.ModelCheckpoint(filepath=save_model_path, monitor='mse', verbose=1)\n",
    "annealer = LearningRateScheduler(lambda x: 1e-3 * 0.8 ** x)"
   ]
  },
  {
   "cell_type": "code",
   "execution_count": 7,
   "metadata": {},
   "outputs": [],
   "source": [
    "batch_size = 16\n",
    "num_epochs = 20\n"
   ]
  },
  {
   "cell_type": "code",
   "execution_count": 8,
   "metadata": {},
   "outputs": [],
   "source": [
    "# Image transformer\n",
    "datagen = ImageDataGenerator(\n",
    "        shear_range=0.2,\n",
    "        zoom_range=0.2,\n",
    "        rotation_range=20,\n",
    "        horizontal_flip=True)\n",
    "# Generate training data\n",
    "\n",
    "def image_a_b_gen(Xtrain, Ytrain, batch_size):\n",
    "    for X_batch, Y_batch in datagen.flow(Xtrain, Ytrain, batch_size=batch_size):\n",
    "        X_batch = X_batch / 255\n",
    "        Y_batch = Y_batch / 255\n",
    "        yield (X_batch, Y_batch)"
   ]
  },
  {
   "cell_type": "code",
   "execution_count": 9,
   "metadata": {},
   "outputs": [],
   "source": [
    "def val_a_b_gen(Xval, Yval, batch_size):\n",
    "    for X_batch, Y_batch in datagen.flow(Xval, Yval, batch_size=batch_size):\n",
    "        X_batch = Xval / 255\n",
    "        Y_batch = Yval / 255\n",
    "        yield (X_batch.reshape(X_batch.shape+(1,)), Y_batch)"
   ]
  },
  {
   "cell_type": "code",
   "execution_count": 84,
   "metadata": {},
   "outputs": [
    {
     "name": "stdout",
     "output_type": "stream",
     "text": [
      "Epoch 1/20\n",
      "250/250 [==============================] - 120s 482ms/step - loss: 0.0043 - acc: 0.5318 - mean_squared_error: 0.0043\n",
      "\n",
      "Epoch 00001: saving model to ./small_conv_net.h5\n",
      "Epoch 2/20\n",
      "250/250 [==============================] - 120s 479ms/step - loss: 0.0043 - acc: 0.5317 - mean_squared_error: 0.0043\n",
      "\n",
      "Epoch 00002: saving model to ./small_conv_net.h5\n",
      "Epoch 3/20\n",
      "250/250 [==============================] - 121s 484ms/step - loss: 0.0043 - acc: 0.5349 - mean_squared_error: 0.0043\n",
      "\n",
      "Epoch 00003: saving model to ./small_conv_net.h5\n",
      "Epoch 4/20\n",
      "250/250 [==============================] - 121s 485ms/step - loss: 0.0043 - acc: 0.5306 - mean_squared_error: 0.0043\n",
      "\n",
      "Epoch 00004: saving model to ./small_conv_net.h5\n",
      "Epoch 5/20\n",
      "250/250 [==============================] - 122s 486ms/step - loss: 0.0043 - acc: 0.5284 - mean_squared_error: 0.0043\n",
      "\n",
      "Epoch 00005: saving model to ./small_conv_net.h5\n",
      "Epoch 6/20\n",
      "250/250 [==============================] - 121s 482ms/step - loss: 0.0043 - acc: 0.5303 - mean_squared_error: 0.0043\n",
      "\n",
      "Epoch 00006: saving model to ./small_conv_net.h5\n",
      "Epoch 7/20\n",
      "250/250 [==============================] - 122s 487ms/step - loss: 0.0043 - acc: 0.5336 - mean_squared_error: 0.0043\n",
      "\n",
      "Epoch 00007: saving model to ./small_conv_net.h5\n",
      "Epoch 8/20\n",
      "250/250 [==============================] - 121s 486ms/step - loss: 0.0043 - acc: 0.5337 - mean_squared_error: 0.0043\n",
      "\n",
      "Epoch 00008: saving model to ./small_conv_net.h5\n",
      "Epoch 9/20\n",
      "250/250 [==============================] - 120s 480ms/step - loss: 0.0043 - acc: 0.5345 - mean_squared_error: 0.0043\n",
      "\n",
      "Epoch 00009: saving model to ./small_conv_net.h5\n",
      "Epoch 10/20\n",
      "250/250 [==============================] - 120s 480ms/step - loss: 0.0043 - acc: 0.5329 - mean_squared_error: 0.0043\n",
      "\n",
      "Epoch 00010: saving model to ./small_conv_net.h5\n",
      "Epoch 11/20\n",
      "250/250 [==============================] - 121s 485ms/step - loss: 0.0043 - acc: 0.5308 - mean_squared_error: 0.0043\n",
      "\n",
      "Epoch 00011: saving model to ./small_conv_net.h5\n",
      "Epoch 12/20\n",
      "250/250 [==============================] - 121s 485ms/step - loss: 0.0043 - acc: 0.5261 - mean_squared_error: 0.0043\n",
      "\n",
      "Epoch 00012: saving model to ./small_conv_net.h5\n",
      "Epoch 13/20\n",
      "250/250 [==============================] - 119s 478ms/step - loss: 0.0042 - acc: 0.5321 - mean_squared_error: 0.0042\n",
      "\n",
      "Epoch 00013: saving model to ./small_conv_net.h5\n",
      "Epoch 14/20\n",
      "250/250 [==============================] - 120s 480ms/step - loss: 0.0043 - acc: 0.5339 - mean_squared_error: 0.0043\n",
      "\n",
      "Epoch 00014: saving model to ./small_conv_net.h5\n",
      "Epoch 15/20\n",
      "250/250 [==============================] - 121s 483ms/step - loss: 0.0043 - acc: 0.5338 - mean_squared_error: 0.0043\n",
      "\n",
      "Epoch 00015: saving model to ./small_conv_net.h5\n",
      "Epoch 16/20\n",
      "250/250 [==============================] - 121s 484ms/step - loss: 0.0042 - acc: 0.5354 - mean_squared_error: 0.0042\n",
      "\n",
      "Epoch 00016: saving model to ./small_conv_net.h5\n",
      "Epoch 17/20\n",
      "250/250 [==============================] - 121s 484ms/step - loss: 0.0042 - acc: 0.5352 - mean_squared_error: 0.0042\n",
      "\n",
      "Epoch 00017: saving model to ./small_conv_net.h5\n",
      "Epoch 18/20\n",
      "250/250 [==============================] - 121s 485ms/step - loss: 0.0042 - acc: 0.5339 - mean_squared_error: 0.0042\n",
      "\n",
      "Epoch 00018: saving model to ./small_conv_net.h5\n",
      "Epoch 19/20\n",
      "250/250 [==============================] - 119s 477ms/step - loss: 0.0042 - acc: 0.5390 - mean_squared_error: 0.0042\n",
      "\n",
      "Epoch 00019: saving model to ./small_conv_net.h5\n",
      "Epoch 20/20\n",
      "250/250 [==============================] - 119s 476ms/step - loss: 0.0042 - acc: 0.5336 - mean_squared_error: 0.0042\n",
      "\n",
      "Epoch 00020: saving model to ./small_conv_net.h5\n"
     ]
    },
    {
     "data": {
      "text/plain": [
       "<keras.callbacks.History at 0x1f332255828>"
      ]
     },
     "execution_count": 84,
     "metadata": {},
     "output_type": "execute_result"
    }
   ],
   "source": [
    "model.fit_generator(image_a_b_gen(train_gray, train_lab, batch_size), steps_per_epoch=250, epochs=num_epochs, callbacks=[cp])"
   ]
  },
  {
   "cell_type": "code",
   "execution_count": 10,
   "metadata": {},
   "outputs": [],
   "source": [
    "model.load_weights(\"./small_conv_net.h5\")"
   ]
  },
  {
   "cell_type": "code",
   "execution_count": 11,
   "metadata": {},
   "outputs": [
    {
     "name": "stdout",
     "output_type": "stream",
     "text": [
      "(10000, 224, 224, 2)\n",
      "(25000, 224, 224)\n"
     ]
    }
   ],
   "source": [
    "images_gray = np.load('./l/gray_scale.npy')\n",
    "images_lab = np.load('./ab/ab/ab1.npy')\n",
    "#images_lab = np.append(images_lab,np.load('./ab/ab/ab2.npy'), axis=0)\n",
    "#images_lab = np.append(images_lab,np.load('./ab/ab/ab3.npy'), axis=0)\n",
    "print(images_lab.shape)\n",
    "print(images_gray.shape)\n",
    "test_gray = images_gray[8000:8200,:,:]\n",
    "test_lab = images_lab[8000:8200,:,:,:]\n",
    "\n",
    "#val_gray = images_gray[8000:10000:,:]\n",
    "#val_lab = images_lab[8000:10000,:,:]\n",
    "\n",
    "test_gray = test_gray.reshape(200,224,224,1)\n",
    "test_lab = test_lab / 255\n",
    "test_gray = test_gray / 255\n",
    "#val_gray = val_gray.reshape(2000,224,224,1)\n",
    "#val_gray.shape\n",
    "del images_gray\n",
    "del images_lab\n"
   ]
  },
  {
   "cell_type": "code",
   "execution_count": 12,
   "metadata": {},
   "outputs": [
    {
     "name": "stdout",
     "output_type": "stream",
     "text": [
      "200/200 [==============================] - 10s 51ms/step\n",
      "Loss on test set:  [0.003736745063215494, 0.5476729917526245, 0.003736745179630816]\n"
     ]
    }
   ],
   "source": [
    "# Evaluation on test dataset\n",
    "test_loss = model.evaluate(test_gray, test_lab, batch_size=16)\n",
    "print(\"Loss on test set: \", test_loss)\n",
    "#print(\"Accuracy on test set: \", test_score)"
   ]
  },
  {
   "cell_type": "code",
   "execution_count": 21,
   "metadata": {},
   "outputs": [],
   "source": [
    "# Test model\n",
    "output = model.predict(test_gray)\n",
    "test_gray_reshape = test_gray.reshape((200,224,224))\n",
    "#img_ = np.zeros((200,224,224,3))\n",
    "# Output colorizations\n",
    "for i in range(len(output)):\n",
    "        cur = np.zeros((224, 224, 3))\n",
    "        cur[:,:,0] = test_gray_reshape[i][:,:] * 255\n",
    "        cur[:,:,1:] = output[i] * 255\n",
    "        cur = cur.astype('uint8')\n",
    "        img_ = cv2.cvtColor(cur, cv2.COLOR_LAB2RGB)\n",
    "        gray = cv2.cvtColor(img_, cv2.COLOR_RGB2GRAY)\n",
    "        #test_gray_reshape[i] = cv2.cvtColor(test_gray_reshape[i], cv2.)\n",
    "        imsave(\"result/img_\"+str(i)+\".png\", img_)\n",
    "        imsave(\"result/gray_\"+str(i)+\".png\",gray)"
   ]
  },
  {
   "cell_type": "code",
   "execution_count": 25,
   "metadata": {},
   "outputs": [],
   "source": [
    "#Load weights\n",
    "inception = InceptionResNetV2(weights=None, include_top=True)\n",
    "inception.load_weights('inception_resnet_v2_weights_tf_dim_ordering_tf_kernels.h5')\n",
    "inception.graph = tf.get_default_graph()\n",
    "\n",
    "embed_input = Input(shape=(1000,))\n"
   ]
  },
  {
   "cell_type": "code",
   "execution_count": 88,
   "metadata": {},
   "outputs": [],
   "source": [
    "#Encoder\n",
    "encoder_input = Input(shape=(224, 224, 1,))\n",
    "encoder_output = Conv2D(64, (3,3), activation='relu', padding='same', strides=2)(encoder_input)\n",
    "#128\n",
    "encoder_output = Conv2D(128, (3,3), activation='relu', padding='same')(encoder_output)\n",
    "encoder_output = Conv2D(128, (3,3), activation='relu', padding='same', strides=2)(encoder_output)\n",
    "#64\n",
    "encoder_output = Conv2D(256, (3,3), activation='relu', padding='same')(encoder_output)\n",
    "encoder_output = Conv2D(256, (3,3), activation='relu', padding='same', strides=2)(encoder_output)\n",
    "#32\n",
    "encoder_output = Conv2D(512, (3,3), activation='relu', padding='same')(encoder_output)\n",
    "encoder_output = Conv2D(512, (3,3), activation='relu', padding='same')(encoder_output)\n",
    "encoder_output = Conv2D(256, (3,3), activation='relu', padding='same')(encoder_output)\n",
    "\n",
    "#Fusion\n",
    "fusion_output = RepeatVector(28 * 28)(embed_input) \n",
    "fusion_output = Reshape(([28, 28, 1000]))(fusion_output)\n",
    "fusion_output = concatenate([encoder_output, fusion_output], axis=3) \n",
    "fusion_output = Conv2D(256, (1, 1), activation='relu', padding='same')(fusion_output) \n",
    "\n",
    "#Decoder\n",
    "decoder_output = Conv2D(128, (3,3), activation='relu', padding='same')(fusion_output)\n",
    "decoder_output = UpSampling2D((2, 2))(decoder_output)\n",
    "#64\n",
    "decoder_output = Conv2D(64, (3,3), activation='relu', padding='same')(decoder_output)\n",
    "decoder_output = UpSampling2D((2, 2))(decoder_output)\n",
    "#128\n",
    "decoder_output = Conv2D(32, (3,3), activation='relu', padding='same')(decoder_output)\n",
    "decoder_output = Conv2D(16, (3,3), activation='relu', padding='same')(decoder_output)\n",
    "decoder_output = Conv2D(2, (3, 3), activation='tanh', padding='same')(decoder_output)\n",
    "decoder_output = UpSampling2D((2, 2))(decoder_output)\n",
    "#256"
   ]
  },
  {
   "cell_type": "code",
   "execution_count": 89,
   "metadata": {},
   "outputs": [
    {
     "name": "stdout",
     "output_type": "stream",
     "text": [
      "__________________________________________________________________________________________________\n",
      "Layer (type)                    Output Shape         Param #     Connected to                     \n",
      "==================================================================================================\n",
      "input_7 (InputLayer)            (None, 224, 224, 1)  0                                            \n",
      "__________________________________________________________________________________________________\n",
      "conv2d_442 (Conv2D)             (None, 112, 112, 64) 640         input_7[0][0]                    \n",
      "__________________________________________________________________________________________________\n",
      "conv2d_443 (Conv2D)             (None, 112, 112, 128 73856       conv2d_442[0][0]                 \n",
      "__________________________________________________________________________________________________\n",
      "conv2d_444 (Conv2D)             (None, 56, 56, 128)  147584      conv2d_443[0][0]                 \n",
      "__________________________________________________________________________________________________\n",
      "conv2d_445 (Conv2D)             (None, 56, 56, 256)  295168      conv2d_444[0][0]                 \n",
      "__________________________________________________________________________________________________\n",
      "conv2d_446 (Conv2D)             (None, 28, 28, 256)  590080      conv2d_445[0][0]                 \n",
      "__________________________________________________________________________________________________\n",
      "conv2d_447 (Conv2D)             (None, 28, 28, 512)  1180160     conv2d_446[0][0]                 \n",
      "__________________________________________________________________________________________________\n",
      "input_3 (InputLayer)            (None, 1000)         0                                            \n",
      "__________________________________________________________________________________________________\n",
      "conv2d_448 (Conv2D)             (None, 28, 28, 512)  2359808     conv2d_447[0][0]                 \n",
      "__________________________________________________________________________________________________\n",
      "repeat_vector_4 (RepeatVector)  (None, 784, 1000)    0           input_3[0][0]                    \n",
      "__________________________________________________________________________________________________\n",
      "conv2d_449 (Conv2D)             (None, 28, 28, 256)  1179904     conv2d_448[0][0]                 \n",
      "__________________________________________________________________________________________________\n",
      "reshape_4 (Reshape)             (None, 28, 28, 1000) 0           repeat_vector_4[0][0]            \n",
      "__________________________________________________________________________________________________\n",
      "concatenate_4 (Concatenate)     (None, 28, 28, 1256) 0           conv2d_449[0][0]                 \n",
      "                                                                 reshape_4[0][0]                  \n",
      "__________________________________________________________________________________________________\n",
      "conv2d_450 (Conv2D)             (None, 28, 28, 256)  321792      concatenate_4[0][0]              \n",
      "__________________________________________________________________________________________________\n",
      "conv2d_451 (Conv2D)             (None, 28, 28, 128)  295040      conv2d_450[0][0]                 \n",
      "__________________________________________________________________________________________________\n",
      "up_sampling2d_7 (UpSampling2D)  (None, 56, 56, 128)  0           conv2d_451[0][0]                 \n",
      "__________________________________________________________________________________________________\n",
      "conv2d_452 (Conv2D)             (None, 56, 56, 64)   73792       up_sampling2d_7[0][0]            \n",
      "__________________________________________________________________________________________________\n",
      "up_sampling2d_8 (UpSampling2D)  (None, 112, 112, 64) 0           conv2d_452[0][0]                 \n",
      "__________________________________________________________________________________________________\n",
      "conv2d_453 (Conv2D)             (None, 112, 112, 32) 18464       up_sampling2d_8[0][0]            \n",
      "__________________________________________________________________________________________________\n",
      "conv2d_454 (Conv2D)             (None, 112, 112, 16) 4624        conv2d_453[0][0]                 \n",
      "__________________________________________________________________________________________________\n",
      "conv2d_455 (Conv2D)             (None, 112, 112, 2)  290         conv2d_454[0][0]                 \n",
      "__________________________________________________________________________________________________\n",
      "up_sampling2d_9 (UpSampling2D)  (None, 224, 224, 2)  0           conv2d_455[0][0]                 \n",
      "==================================================================================================\n",
      "Total params: 6,541,202\n",
      "Trainable params: 6,541,202\n",
      "Non-trainable params: 0\n",
      "__________________________________________________________________________________________________\n"
     ]
    }
   ],
   "source": [
    "model = Model(inputs=[encoder_input, embed_input], outputs=decoder_output)\n",
    "model.summary()"
   ]
  },
  {
   "cell_type": "code",
   "execution_count": 77,
   "metadata": {},
   "outputs": [],
   "source": [
    "#Create embedding\n",
    "def create_inception_embedding(grayscaled_rgb):\n",
    "    grayscaled_rgb_resized = []\n",
    "    for i in grayscaled_rgb:\n",
    "        i = skt.resize(i, (299, 299, 3), mode='constant')\n",
    "        grayscaled_rgb_resized.append(i)\n",
    "    grayscaled_rgb_resized = np.array(grayscaled_rgb_resized)\n",
    "    with inception.graph.as_default():\n",
    "        embed = inception.predict(grayscaled_rgb_resized[:,:,:,:,1])\n",
    "    return embed\n"
   ]
  },
  {
   "cell_type": "code",
   "execution_count": 78,
   "metadata": {},
   "outputs": [],
   "source": [
    "# Image transformer\n",
    "datagen = ImageDataGenerator(\n",
    "        shear_range=0.4,\n",
    "        zoom_range=0.4,\n",
    "        rotation_range=40,\n",
    "        horizontal_flip=True)\n",
    "\n",
    "#Generate training data\n",
    "batch_size = 20\n",
    "\n",
    "def image_a_b_gen(Xtrain, Ytrain, batch_size):\n",
    "    for X_batch, Y_batch in datagen.flow(Xtrain, Ytrain, batch_size=batch_size):\n",
    "        X_batch = X_batch / 255\n",
    "        Y_batch = Y_batch / 255\n",
    "        grayscaled_rgb = skc.gray2rgb(X_batch)\n",
    "        embed = create_inception_embedding(grayscaled_rgb)\n",
    "        yield ([X_batch, embed], Y_batch)"
   ]
  },
  {
   "cell_type": "code",
   "execution_count": 79,
   "metadata": {},
   "outputs": [],
   "source": [
    "save_model_path = './small_conv_net.h5'\n",
    "cp = tf.keras.callbacks.ModelCheckpoint(filepath=save_model_path, monitor='mse', verbose=1)\n",
    "annealer = LearningRateScheduler(lambda x: 1e-3 * 0.8 ** x)\n",
    "batch_size = 16\n",
    "num_epochs = 20"
   ]
  },
  {
   "cell_type": "code",
   "execution_count": 80,
   "metadata": {},
   "outputs": [
    {
     "name": "stdout",
     "output_type": "stream",
     "text": [
      "Epoch 1/20\n"
     ]
    },
    {
     "name": "stderr",
     "output_type": "stream",
     "text": [
      "C:\\Users\\debji\\Anaconda3\\envs\\tensorflow\\lib\\site-packages\\skimage\\transform\\_warps.py:110: UserWarning: Anti-aliasing will be enabled by default in skimage 0.15 to avoid aliasing artifacts when down-sampling images.\n",
      "  warn(\"Anti-aliasing will be enabled by default in skimage 0.15 to \"\n"
     ]
    },
    {
     "ename": "ValueError",
     "evalue": "Error when checking input: expected input_4 to have shape (256, 256, 1) but got array with shape (224, 224, 1)",
     "output_type": "error",
     "traceback": [
      "\u001b[1;31m---------------------------------------------------------------------------\u001b[0m",
      "\u001b[1;31mValueError\u001b[0m                                Traceback (most recent call last)",
      "\u001b[1;32m<ipython-input-80-e979e61d37c1>\u001b[0m in \u001b[0;36m<module>\u001b[1;34m()\u001b[0m\n\u001b[0;32m      1\u001b[0m \u001b[0mmodel\u001b[0m\u001b[1;33m.\u001b[0m\u001b[0mcompile\u001b[0m\u001b[1;33m(\u001b[0m\u001b[0moptimizer\u001b[0m\u001b[1;33m=\u001b[0m\u001b[1;34m'adam'\u001b[0m\u001b[1;33m,\u001b[0m \u001b[0mloss\u001b[0m\u001b[1;33m=\u001b[0m\u001b[1;34m'mse'\u001b[0m\u001b[1;33m)\u001b[0m\u001b[1;33m\u001b[0m\u001b[0m\n\u001b[1;32m----> 2\u001b[1;33m \u001b[0mmodel\u001b[0m\u001b[1;33m.\u001b[0m\u001b[0mfit_generator\u001b[0m\u001b[1;33m(\u001b[0m\u001b[0mimage_a_b_gen\u001b[0m\u001b[1;33m(\u001b[0m\u001b[0mtrain_gray\u001b[0m\u001b[1;33m,\u001b[0m \u001b[0mtrain_lab\u001b[0m\u001b[1;33m,\u001b[0m \u001b[0mbatch_size\u001b[0m\u001b[1;33m)\u001b[0m\u001b[1;33m,\u001b[0m \u001b[0msteps_per_epoch\u001b[0m\u001b[1;33m=\u001b[0m\u001b[1;36m250\u001b[0m\u001b[1;33m,\u001b[0m \u001b[0mepochs\u001b[0m\u001b[1;33m=\u001b[0m\u001b[0mnum_epochs\u001b[0m\u001b[1;33m,\u001b[0m \u001b[0mcallbacks\u001b[0m\u001b[1;33m=\u001b[0m\u001b[1;33m[\u001b[0m\u001b[0mcp\u001b[0m\u001b[1;33m]\u001b[0m\u001b[1;33m)\u001b[0m\u001b[1;33m\u001b[0m\u001b[0m\n\u001b[0m",
      "\u001b[1;32m~\\Anaconda3\\envs\\tensorflow\\lib\\site-packages\\keras\\legacy\\interfaces.py\u001b[0m in \u001b[0;36mwrapper\u001b[1;34m(*args, **kwargs)\u001b[0m\n\u001b[0;32m     89\u001b[0m                 warnings.warn('Update your `' + object_name +\n\u001b[0;32m     90\u001b[0m                               '` call to the Keras 2 API: ' + signature, stacklevel=2)\n\u001b[1;32m---> 91\u001b[1;33m             \u001b[1;32mreturn\u001b[0m \u001b[0mfunc\u001b[0m\u001b[1;33m(\u001b[0m\u001b[1;33m*\u001b[0m\u001b[0margs\u001b[0m\u001b[1;33m,\u001b[0m \u001b[1;33m**\u001b[0m\u001b[0mkwargs\u001b[0m\u001b[1;33m)\u001b[0m\u001b[1;33m\u001b[0m\u001b[0m\n\u001b[0m\u001b[0;32m     92\u001b[0m         \u001b[0mwrapper\u001b[0m\u001b[1;33m.\u001b[0m\u001b[0m_original_function\u001b[0m \u001b[1;33m=\u001b[0m \u001b[0mfunc\u001b[0m\u001b[1;33m\u001b[0m\u001b[0m\n\u001b[0;32m     93\u001b[0m         \u001b[1;32mreturn\u001b[0m \u001b[0mwrapper\u001b[0m\u001b[1;33m\u001b[0m\u001b[0m\n",
      "\u001b[1;32m~\\Anaconda3\\envs\\tensorflow\\lib\\site-packages\\keras\\engine\\training.py\u001b[0m in \u001b[0;36mfit_generator\u001b[1;34m(self, generator, steps_per_epoch, epochs, verbose, callbacks, validation_data, validation_steps, class_weight, max_queue_size, workers, use_multiprocessing, shuffle, initial_epoch)\u001b[0m\n\u001b[0;32m   1413\u001b[0m             \u001b[0muse_multiprocessing\u001b[0m\u001b[1;33m=\u001b[0m\u001b[0muse_multiprocessing\u001b[0m\u001b[1;33m,\u001b[0m\u001b[1;33m\u001b[0m\u001b[0m\n\u001b[0;32m   1414\u001b[0m             \u001b[0mshuffle\u001b[0m\u001b[1;33m=\u001b[0m\u001b[0mshuffle\u001b[0m\u001b[1;33m,\u001b[0m\u001b[1;33m\u001b[0m\u001b[0m\n\u001b[1;32m-> 1415\u001b[1;33m             initial_epoch=initial_epoch)\n\u001b[0m\u001b[0;32m   1416\u001b[0m \u001b[1;33m\u001b[0m\u001b[0m\n\u001b[0;32m   1417\u001b[0m     \u001b[1;33m@\u001b[0m\u001b[0minterfaces\u001b[0m\u001b[1;33m.\u001b[0m\u001b[0mlegacy_generator_methods_support\u001b[0m\u001b[1;33m\u001b[0m\u001b[0m\n",
      "\u001b[1;32m~\\Anaconda3\\envs\\tensorflow\\lib\\site-packages\\keras\\engine\\training_generator.py\u001b[0m in \u001b[0;36mfit_generator\u001b[1;34m(model, generator, steps_per_epoch, epochs, verbose, callbacks, validation_data, validation_steps, class_weight, max_queue_size, workers, use_multiprocessing, shuffle, initial_epoch)\u001b[0m\n\u001b[0;32m    211\u001b[0m                 outs = model.train_on_batch(x, y,\n\u001b[0;32m    212\u001b[0m                                             \u001b[0msample_weight\u001b[0m\u001b[1;33m=\u001b[0m\u001b[0msample_weight\u001b[0m\u001b[1;33m,\u001b[0m\u001b[1;33m\u001b[0m\u001b[0m\n\u001b[1;32m--> 213\u001b[1;33m                                             class_weight=class_weight)\n\u001b[0m\u001b[0;32m    214\u001b[0m \u001b[1;33m\u001b[0m\u001b[0m\n\u001b[0;32m    215\u001b[0m                 \u001b[0mouts\u001b[0m \u001b[1;33m=\u001b[0m \u001b[0mto_list\u001b[0m\u001b[1;33m(\u001b[0m\u001b[0mouts\u001b[0m\u001b[1;33m)\u001b[0m\u001b[1;33m\u001b[0m\u001b[0m\n",
      "\u001b[1;32m~\\Anaconda3\\envs\\tensorflow\\lib\\site-packages\\keras\\engine\\training.py\u001b[0m in \u001b[0;36mtrain_on_batch\u001b[1;34m(self, x, y, sample_weight, class_weight)\u001b[0m\n\u001b[0;32m   1207\u001b[0m             \u001b[0mx\u001b[0m\u001b[1;33m,\u001b[0m \u001b[0my\u001b[0m\u001b[1;33m,\u001b[0m\u001b[1;33m\u001b[0m\u001b[0m\n\u001b[0;32m   1208\u001b[0m             \u001b[0msample_weight\u001b[0m\u001b[1;33m=\u001b[0m\u001b[0msample_weight\u001b[0m\u001b[1;33m,\u001b[0m\u001b[1;33m\u001b[0m\u001b[0m\n\u001b[1;32m-> 1209\u001b[1;33m             class_weight=class_weight)\n\u001b[0m\u001b[0;32m   1210\u001b[0m         \u001b[1;32mif\u001b[0m \u001b[0mself\u001b[0m\u001b[1;33m.\u001b[0m\u001b[0m_uses_dynamic_learning_phase\u001b[0m\u001b[1;33m(\u001b[0m\u001b[1;33m)\u001b[0m\u001b[1;33m:\u001b[0m\u001b[1;33m\u001b[0m\u001b[0m\n\u001b[0;32m   1211\u001b[0m             \u001b[0mins\u001b[0m \u001b[1;33m=\u001b[0m \u001b[0mx\u001b[0m \u001b[1;33m+\u001b[0m \u001b[0my\u001b[0m \u001b[1;33m+\u001b[0m \u001b[0msample_weights\u001b[0m \u001b[1;33m+\u001b[0m \u001b[1;33m[\u001b[0m\u001b[1;36m1.\u001b[0m\u001b[1;33m]\u001b[0m\u001b[1;33m\u001b[0m\u001b[0m\n",
      "\u001b[1;32m~\\Anaconda3\\envs\\tensorflow\\lib\\site-packages\\keras\\engine\\training.py\u001b[0m in \u001b[0;36m_standardize_user_data\u001b[1;34m(self, x, y, sample_weight, class_weight, check_array_lengths, batch_size)\u001b[0m\n\u001b[0;32m    747\u001b[0m             \u001b[0mfeed_input_shapes\u001b[0m\u001b[1;33m,\u001b[0m\u001b[1;33m\u001b[0m\u001b[0m\n\u001b[0;32m    748\u001b[0m             \u001b[0mcheck_batch_axis\u001b[0m\u001b[1;33m=\u001b[0m\u001b[1;32mFalse\u001b[0m\u001b[1;33m,\u001b[0m  \u001b[1;31m# Don't enforce the batch size.\u001b[0m\u001b[1;33m\u001b[0m\u001b[0m\n\u001b[1;32m--> 749\u001b[1;33m             exception_prefix='input')\n\u001b[0m\u001b[0;32m    750\u001b[0m \u001b[1;33m\u001b[0m\u001b[0m\n\u001b[0;32m    751\u001b[0m         \u001b[1;32mif\u001b[0m \u001b[0my\u001b[0m \u001b[1;32mis\u001b[0m \u001b[1;32mnot\u001b[0m \u001b[1;32mNone\u001b[0m\u001b[1;33m:\u001b[0m\u001b[1;33m\u001b[0m\u001b[0m\n",
      "\u001b[1;32m~\\Anaconda3\\envs\\tensorflow\\lib\\site-packages\\keras\\engine\\training_utils.py\u001b[0m in \u001b[0;36mstandardize_input_data\u001b[1;34m(data, names, shapes, check_batch_axis, exception_prefix)\u001b[0m\n\u001b[0;32m    135\u001b[0m                             \u001b[1;34m': expected '\u001b[0m \u001b[1;33m+\u001b[0m \u001b[0mnames\u001b[0m\u001b[1;33m[\u001b[0m\u001b[0mi\u001b[0m\u001b[1;33m]\u001b[0m \u001b[1;33m+\u001b[0m \u001b[1;34m' to have shape '\u001b[0m \u001b[1;33m+\u001b[0m\u001b[1;33m\u001b[0m\u001b[0m\n\u001b[0;32m    136\u001b[0m                             \u001b[0mstr\u001b[0m\u001b[1;33m(\u001b[0m\u001b[0mshape\u001b[0m\u001b[1;33m)\u001b[0m \u001b[1;33m+\u001b[0m \u001b[1;34m' but got array with shape '\u001b[0m \u001b[1;33m+\u001b[0m\u001b[1;33m\u001b[0m\u001b[0m\n\u001b[1;32m--> 137\u001b[1;33m                             str(data_shape))\n\u001b[0m\u001b[0;32m    138\u001b[0m     \u001b[1;32mreturn\u001b[0m \u001b[0mdata\u001b[0m\u001b[1;33m\u001b[0m\u001b[0m\n\u001b[0;32m    139\u001b[0m \u001b[1;33m\u001b[0m\u001b[0m\n",
      "\u001b[1;31mValueError\u001b[0m: Error when checking input: expected input_4 to have shape (256, 256, 1) but got array with shape (224, 224, 1)"
     ]
    }
   ],
   "source": [
    "model.compile(optimizer='adam', loss='mse')\n",
    "model.fit_generator(image_a_b_gen(train_gray, train_lab, batch_size), steps_per_epoch=250, epochs=num_epochs, callbacks=[cp])\n"
   ]
  },
  {
   "cell_type": "code",
   "execution_count": 90,
   "metadata": {},
   "outputs": [
    {
     "name": "stdout",
     "output_type": "stream",
     "text": [
      "(10000, 224, 224, 2)\n",
      "(25000, 224, 224)\n"
     ]
    }
   ],
   "source": [
    "images_gray = np.load('./l/gray_scale.npy')\n",
    "images_lab = np.load('./ab/ab/ab2.npy')\n",
    "#images_lab = np.append(images_lab,np.load('./ab/ab/ab2.npy'), axis=0)\n",
    "#images_lab = np.append(images_lab,np.load('./ab/ab/ab3.npy'), axis=0)\n",
    "print(images_lab.shape)\n",
    "print(images_gray.shape)\n",
    "\n",
    "train_gray = images_gray[10000:14000,:,:]\n",
    "train_lab = images_lab[:4000,:,:,:]\n",
    "\n",
    "#val_gray = images_gray[8000:10000:,:]\n",
    "#val_lab = images_lab[8000:10000,:,:]\n",
    "\n",
    "train_gray = train_gray.reshape(4000,224,224,1)\n",
    "\n",
    "#val_gray = val_gray.reshape(2000,224,224,1)\n",
    "#val_gray.shape\n",
    "del images_gray\n",
    "del images_lab"
   ]
  },
  {
   "cell_type": "code",
   "execution_count": 91,
   "metadata": {},
   "outputs": [
    {
     "name": "stdout",
     "output_type": "stream",
     "text": [
      "Epoch 1/20\n"
     ]
    },
    {
     "name": "stderr",
     "output_type": "stream",
     "text": [
      "C:\\Users\\debji\\Anaconda3\\envs\\tensorflow\\lib\\site-packages\\skimage\\transform\\_warps.py:110: UserWarning: Anti-aliasing will be enabled by default in skimage 0.15 to avoid aliasing artifacts when down-sampling images.\n",
      "  warn(\"Anti-aliasing will be enabled by default in skimage 0.15 to \"\n"
     ]
    },
    {
     "name": "stdout",
     "output_type": "stream",
     "text": [
      "250/250 [==============================] - 1312s 5s/step - loss: 0.0112\n",
      "\n",
      "Epoch 00001: saving model to ./small_conv_net.h5\n",
      "Epoch 2/20\n",
      "250/250 [==============================] - 577s 2s/step - loss: 0.0050\n",
      "\n",
      "Epoch 00002: saving model to ./small_conv_net.h5\n",
      "Epoch 3/20\n",
      "250/250 [==============================] - 586s 2s/step - loss: 0.0046\n",
      "\n",
      "Epoch 00003: saving model to ./small_conv_net.h5\n",
      "Epoch 4/20\n",
      "250/250 [==============================] - 580s 2s/step - loss: 0.0045\n",
      "\n",
      "Epoch 00004: saving model to ./small_conv_net.h5\n",
      "Epoch 5/20\n",
      "250/250 [==============================] - 599s 2s/step - loss: 0.0044\n",
      "\n",
      "Epoch 00005: saving model to ./small_conv_net.h5\n",
      "Epoch 6/20\n",
      "250/250 [==============================] - 600s 2s/step - loss: 0.0043\n",
      "\n",
      "Epoch 00006: saving model to ./small_conv_net.h5\n",
      "Epoch 7/20\n",
      "250/250 [==============================] - 593s 2s/step - loss: 0.0043\n",
      "\n",
      "Epoch 00007: saving model to ./small_conv_net.h5\n",
      "Epoch 8/20\n",
      "250/250 [==============================] - 588s 2s/step - loss: 0.0042\n",
      "\n",
      "Epoch 00008: saving model to ./small_conv_net.h5\n",
      "Epoch 9/20\n",
      "250/250 [==============================] - 588s 2s/step - loss: 0.0042\n",
      "\n",
      "Epoch 00009: saving model to ./small_conv_net.h5\n",
      "Epoch 10/20\n",
      "250/250 [==============================] - 587s 2s/step - loss: 0.0041\n",
      "\n",
      "Epoch 00010: saving model to ./small_conv_net.h5\n",
      "Epoch 11/20\n",
      "250/250 [==============================] - 588s 2s/step - loss: 0.0041\n",
      "\n",
      "Epoch 00011: saving model to ./small_conv_net.h5\n",
      "Epoch 12/20\n",
      "250/250 [==============================] - 592s 2s/step - loss: 0.0041\n",
      "\n",
      "Epoch 00012: saving model to ./small_conv_net.h5\n",
      "Epoch 13/20\n",
      "250/250 [==============================] - 589s 2s/step - loss: 0.0041\n",
      "\n",
      "Epoch 00013: saving model to ./small_conv_net.h5\n",
      "Epoch 14/20\n",
      "250/250 [==============================] - 588s 2s/step - loss: 0.0041\n",
      "\n",
      "Epoch 00014: saving model to ./small_conv_net.h5\n",
      "Epoch 15/20\n",
      "250/250 [==============================] - 589s 2s/step - loss: 0.0041\n",
      "\n",
      "Epoch 00015: saving model to ./small_conv_net.h5\n",
      "Epoch 16/20\n",
      "250/250 [==============================] - 592s 2s/step - loss: 0.0041\n",
      "\n",
      "Epoch 00016: saving model to ./small_conv_net.h5\n",
      "Epoch 17/20\n",
      "250/250 [==============================] - 587s 2s/step - loss: 0.0041\n",
      "\n",
      "Epoch 00017: saving model to ./small_conv_net.h5\n",
      "Epoch 18/20\n",
      "250/250 [==============================] - 590s 2s/step - loss: 0.0041\n",
      "\n",
      "Epoch 00018: saving model to ./small_conv_net.h5\n",
      "Epoch 19/20\n",
      "250/250 [==============================] - 594s 2s/step - loss: 0.0041\n",
      "\n",
      "Epoch 00019: saving model to ./small_conv_net.h5\n",
      "Epoch 20/20\n",
      "250/250 [==============================] - 588s 2s/step - loss: 0.0041\n",
      "\n",
      "Epoch 00020: saving model to ./small_conv_net.h5\n"
     ]
    },
    {
     "data": {
      "text/plain": [
       "<keras.callbacks.History at 0x1b280455a20>"
      ]
     },
     "execution_count": 91,
     "metadata": {},
     "output_type": "execute_result"
    }
   ],
   "source": [
    "model.compile(optimizer='adam', loss='mse')\n",
    "model.fit_generator(image_a_b_gen(train_gray, train_lab, batch_size), steps_per_epoch=250, epochs=num_epochs, callbacks=[cp])\n"
   ]
  },
  {
   "cell_type": "code",
   "execution_count": null,
   "metadata": {},
   "outputs": [],
   "source": []
  }
 ],
 "metadata": {
  "kernelspec": {
   "display_name": "Python 3",
   "language": "python",
   "name": "python3"
  },
  "language_info": {
   "codemirror_mode": {
    "name": "ipython",
    "version": 3
   },
   "file_extension": ".py",
   "mimetype": "text/x-python",
   "name": "python",
   "nbconvert_exporter": "python",
   "pygments_lexer": "ipython3",
   "version": "3.5.5"
  }
 },
 "nbformat": 4,
 "nbformat_minor": 2
}
