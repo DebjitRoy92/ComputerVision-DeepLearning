{
 "cells": [
  {
   "cell_type": "code",
   "execution_count": 1,
   "metadata": {},
   "outputs": [
    {
     "name": "stderr",
     "output_type": "stream",
     "text": [
      "Using TensorFlow backend.\n"
     ]
    },
    {
     "name": "stdout",
     "output_type": "stream",
     "text": [
      "1.10.0\n"
     ]
    }
   ],
   "source": [
    "from __future__ import absolute_import, division, print_function\n",
    "\n",
    "import tensorflow as tf\n",
    "from tensorflow import keras\n",
    "import numpy as np\n",
    "import matplotlib.pyplot as plt\n",
    "import os\n",
    "import cv2 # for image resizing\n",
    "import numpy as np\n",
    "import pandas as pd\n",
    "\n",
    "%matplotlib inline\n",
    "from sklearn.model_selection import train_test_split\n",
    "from keras.backend.tensorflow_backend import set_session\n",
    "config = tf.ConfigProto()\n",
    "config.gpu_options.allow_growth = True  # dynamically grow the memory used on the GPU\n",
    "config.log_device_placement = True  # to log device placement (on which device the operation ran)\n",
    "\n",
    "sess = tf.Session(config=config)\n",
    "set_session(sess)  # set this TensorFlow session as the default session for Keras\n",
    "print(tf.__version__)"
   ]
  },
  {
   "cell_type": "code",
   "execution_count": 2,
   "metadata": {},
   "outputs": [
    {
     "name": "stdout",
     "output_type": "stream",
     "text": [
      "['.DS_Store', 'test', 'train', 'val']\n"
     ]
    }
   ],
   "source": [
    "import glob\n",
    "import h5py\n",
    "import shutil\n",
    "import imgaug as aug\n",
    "import seaborn as sns\n",
    "import matplotlib.pyplot as plt\n",
    "import matplotlib.image as mimg\n",
    "import imgaug.augmenters as iaa\n",
    "from os import listdir, makedirs, getcwd, remove\n",
    "from os.path import isfile, join, abspath, exists, isdir, expanduser\n",
    "from PIL import Image\n",
    "from pathlib import Path\n",
    "from skimage.io import imread\n",
    "from skimage.transform import resize\n",
    "from keras.models import Sequential, Model\n",
    "from keras.applications.vgg16 import VGG16, preprocess_input\n",
    "from keras.preprocessing.image import ImageDataGenerator,load_img, img_to_array\n",
    "from keras.models import Sequential\n",
    "from keras.layers import Conv2D, MaxPooling2D, Dense, Dropout, Input, Flatten, SeparableConv2D\n",
    "from keras.layers import GlobalMaxPooling2D\n",
    "from keras.layers.normalization import BatchNormalization\n",
    "from keras.layers.merge import Concatenate\n",
    "from keras.models import Model\n",
    "from keras.optimizers import Adam, SGD, RMSprop\n",
    "from keras.callbacks import ModelCheckpoint, Callback, EarlyStopping\n",
    "from keras.utils import to_categorical\n",
    "from sklearn.model_selection import train_test_split\n",
    "from sklearn.preprocessing import StandardScaler\n",
    "from mlxtend.plotting import plot_confusion_matrix\n",
    "from sklearn.metrics import confusion_matrix\n",
    "from keras import backend as K\n",
    "color = sns.color_palette()\n",
    "%matplotlib inline\n",
    "\n",
    "# Input data files are available in the \"../input/\" directory.\n",
    "# For example, running this (by clicking run or pressing Shift+Enter) will list the files in the input directory\n",
    "print(os.listdir(\"./chest_xray/\"))"
   ]
  },
  {
   "cell_type": "code",
   "execution_count": 12,
   "metadata": {},
   "outputs": [],
   "source": [
    "# Set the seed for hash based operations in python\n",
    "os.environ['PYTHONHASHSEED'] = '0'\n",
    "\n",
    "# Set the numpy seed\n",
    "np.random.seed(87)\n",
    "\n",
    "# Set the random seed in tensorflow at graph level\n",
    "tf.set_random_seed(87)\n",
    "\n",
    "# Make the augmentation sequence deterministic\n",
    "aug.seed(87)"
   ]
  },
  {
   "cell_type": "code",
   "execution_count": 13,
   "metadata": {},
   "outputs": [],
   "source": [
    "# Define path to the data directory\n",
    "data_dir = Path('./chest_xray')\n",
    "\n",
    "# Path to train directory (Fancy pathlib...no more os.path!!)\n",
    "train_dir = data_dir / 'train'\n",
    "\n",
    "# Path to validation directory\n",
    "val_dir = data_dir / 'val'\n",
    "\n",
    "# Path to test directory\n",
    "test_dir = data_dir / 'test'"
   ]
  },
  {
   "cell_type": "code",
   "execution_count": 56,
   "metadata": {},
   "outputs": [
    {
     "name": "stdout",
     "output_type": "stream",
     "text": [
      "1    3875\n",
      "0    1341\n",
      "Name: label, dtype: int64\n"
     ]
    },
    {
     "data": {
      "text/html": [
       "<div>\n",
       "<style scoped>\n",
       "    .dataframe tbody tr th:only-of-type {\n",
       "        vertical-align: middle;\n",
       "    }\n",
       "\n",
       "    .dataframe tbody tr th {\n",
       "        vertical-align: top;\n",
       "    }\n",
       "\n",
       "    .dataframe thead th {\n",
       "        text-align: right;\n",
       "    }\n",
       "</style>\n",
       "<table border=\"1\" class=\"dataframe\">\n",
       "  <thead>\n",
       "    <tr style=\"text-align: right;\">\n",
       "      <th></th>\n",
       "      <th>image</th>\n",
       "      <th>label</th>\n",
       "    </tr>\n",
       "  </thead>\n",
       "  <tbody>\n",
       "    <tr>\n",
       "      <th>0</th>\n",
       "      <td>chest_xray\\train\\NORMAL\\IM-0584-0001.jpeg</td>\n",
       "      <td>0</td>\n",
       "    </tr>\n",
       "    <tr>\n",
       "      <th>1</th>\n",
       "      <td>chest_xray\\train\\NORMAL\\NORMAL2-IM-0423-0001.jpeg</td>\n",
       "      <td>0</td>\n",
       "    </tr>\n",
       "    <tr>\n",
       "      <th>2</th>\n",
       "      <td>chest_xray\\train\\PNEUMONIA\\person1463_bacteria...</td>\n",
       "      <td>1</td>\n",
       "    </tr>\n",
       "    <tr>\n",
       "      <th>3</th>\n",
       "      <td>chest_xray\\train\\PNEUMONIA\\person1467_virus_25...</td>\n",
       "      <td>1</td>\n",
       "    </tr>\n",
       "    <tr>\n",
       "      <th>4</th>\n",
       "      <td>chest_xray\\train\\PNEUMONIA\\person1052_virus_17...</td>\n",
       "      <td>1</td>\n",
       "    </tr>\n",
       "  </tbody>\n",
       "</table>\n",
       "</div>"
      ],
      "text/plain": [
       "                                               image  label\n",
       "0          chest_xray\\train\\NORMAL\\IM-0584-0001.jpeg      0\n",
       "1  chest_xray\\train\\NORMAL\\NORMAL2-IM-0423-0001.jpeg      0\n",
       "2  chest_xray\\train\\PNEUMONIA\\person1463_bacteria...      1\n",
       "3  chest_xray\\train\\PNEUMONIA\\person1467_virus_25...      1\n",
       "4  chest_xray\\train\\PNEUMONIA\\person1052_virus_17...      1"
      ]
     },
     "execution_count": 56,
     "metadata": {},
     "output_type": "execute_result"
    }
   ],
   "source": [
    "normal_cases_dir = train_dir / 'NORMAL'\n",
    "pneumonia_cases_dir = train_dir / 'PNEUMONIA'\n",
    "\n",
    "normal_cases = normal_cases_dir.glob('*.jpeg')\n",
    "pneumonia_cases = pneumonia_cases_dir.glob('*.jpeg')\n",
    "\n",
    "train_data = []\n",
    "\n",
    "for img in normal_cases:\n",
    "    train_data.append((img,0))\n",
    "\n",
    "for img in pneumonia_cases:\n",
    "    train_data.append((img,1))\n",
    "\n",
    "train_data = pd.DataFrame(train_data, columns=['image','label'],index = None)\n",
    "\n",
    "train_data = train_data.sample(frac=1.).reset_index(drop=True)\n",
    "\n",
    "\n",
    "cases_count = train_data['label'].value_counts()\n",
    "print(cases_count)\n",
    "\n",
    "train_data.head()\n"
   ]
  },
  {
   "cell_type": "code",
   "execution_count": 57,
   "metadata": {},
   "outputs": [
    {
     "name": "stdout",
     "output_type": "stream",
     "text": [
      "Total number of validation examples:  (16, 128, 128, 3)\n",
      "Total number of labels: (16, 2)\n"
     ]
    }
   ],
   "source": [
    "# Get the path to the sub-directories\n",
    "normal_cases_dir = val_dir / 'NORMAL'\n",
    "pneumonia_cases_dir = val_dir / 'PNEUMONIA'\n",
    "\n",
    "# Get the list of all the images\n",
    "normal_cases = normal_cases_dir.glob('*.jpeg')\n",
    "pneumonia_cases = pneumonia_cases_dir.glob('*.jpeg')\n",
    "\n",
    "# List that are going to contain validation images data and the corresponding labels\n",
    "valid_data = []\n",
    "valid_labels = []\n",
    "\n",
    "\n",
    "# Some images are in grayscale while majority of them contains 3 channels. So, if the image is grayscale, we will convert into a image with 3 channels.\n",
    "# We will normalize the pixel values and resizing all the images to 224x224 \n",
    "\n",
    "# Normal cases\n",
    "for img in normal_cases:\n",
    "    img = cv2.imread(str(img))\n",
    "    img = cv2.resize(img, (128,128))\n",
    "    if img.shape[2] ==1:\n",
    "        img = np.dstack([img, img, img])\n",
    "    img = cv2.cvtColor(img, cv2.COLOR_BGR2RGB)\n",
    "    img = img.astype(np.float32)/255.\n",
    "    label = to_categorical(0, num_classes=2)\n",
    "    valid_data.append(img)\n",
    "    valid_labels.append(label)\n",
    "                      \n",
    "# Pneumonia cases        \n",
    "for img in pneumonia_cases:\n",
    "    img = cv2.imread(str(img))\n",
    "    img = cv2.resize(img, (128,128))\n",
    "    if img.shape[2] ==1:\n",
    "        img = np.dstack([img, img, img])\n",
    "    img = cv2.cvtColor(img, cv2.COLOR_BGR2RGB)\n",
    "    img = img.astype(np.float32)/255.\n",
    "    label = to_categorical(1, num_classes=2)\n",
    "    valid_data.append(img)\n",
    "    valid_labels.append(label)\n",
    "    \n",
    "# Convert the list into numpy arrays\n",
    "valid_data = np.array(valid_data)\n",
    "valid_labels = np.array(valid_labels)\n",
    "\n",
    "print(\"Total number of validation examples: \", valid_data.shape)\n",
    "print(\"Total number of labels:\", valid_labels.shape)"
   ]
  },
  {
   "cell_type": "code",
   "execution_count": 58,
   "metadata": {},
   "outputs": [],
   "source": [
    "# Augmentation sequence \n",
    "seq = iaa.OneOf([\n",
    "    iaa.Fliplr(), # horizontal flips\n",
    "    iaa.Affine(rotate=20), # roatation\n",
    "    iaa.Multiply((1.2, 1.5))]) #random brightness"
   ]
  },
  {
   "cell_type": "code",
   "execution_count": 67,
   "metadata": {},
   "outputs": [],
   "source": [
    "def data_gen(data, batch_size, imsize):\n",
    "    n = len(data)\n",
    "    steps = n//batch_size\n",
    "    \n",
    "    batch_data = np.zeros((batch_size,imsize,imsize,3), dtype=np.float32)\n",
    "    batch_labels = np.zeros((batch_size,2), dtype=np.float32)\n",
    "    \n",
    "    indices = np.arange(n)\n",
    "    \n",
    "    i=0\n",
    "    while True:\n",
    "        np.random.shuffle(indices)\n",
    "        count = 0\n",
    "        next_batch = indices[(i*batch_size):(i+1)*batch_size]\n",
    "        for j,idx in enumerate(next_batch):\n",
    "            img_name = data.iloc[idx]['image']\n",
    "            label = data.iloc[idx]['label']\n",
    "            \n",
    "            #onde hot encoding\n",
    "            encoded_label = to_categorical(label, num_classes=2)\n",
    "            img = cv2.imread(str(img_name))\n",
    "            img = cv2.resize(img, (imsize,imsize))\n",
    "            \n",
    "            if img.shape[2]==1:\n",
    "                img = np.dstack([img, img, img])\n",
    "            \n",
    "            orig_img = cv2.cvtColor(img, cv2.COLOR_BGR2RGB)\n",
    "            orig_img = img.astype(np.float32)/255.\n",
    "            \n",
    "            batch_data[count] = orig_img\n",
    "            batch_labels[count] = encoded_label\n",
    "            \n",
    "            if label == 0 and count < batch_size-2:\n",
    "                aug_img1 = seq.augment_image(img)\n",
    "                aug_img2 = seq.augment_image(img)\n",
    "                aug_img1 = cv2.cvtColor(aug_img1, cv2.COLOR_BGR2RGB)\n",
    "                aug_img2 = cv2.cvtColor(aug_img2, cv2.COLOR_BGR2RGB)\n",
    "                aug_img1 = aug_img1.astype(np.float32)/255.\n",
    "                aug_img2 = aug_img2.astype(np.float32)/255.\n",
    "                \n",
    "                batch_data[count+1] = aug_img1\n",
    "                batch_labels[count+1] = encoded_label\n",
    "                batch_data[count+2] = aug_img2\n",
    "                batch_labels[count+2] = encoded_label\n",
    "                count+=2\n",
    "            else:\n",
    "                count+=1\n",
    "                \n",
    "            if count == batch_size-1:\n",
    "                break\n",
    "        i+=1\n",
    "        yield batch_data, batch_labels\n",
    "        \n",
    "        if i>=steps:\n",
    "            i=0"
   ]
  },
  {
   "cell_type": "code",
   "execution_count": 68,
   "metadata": {},
   "outputs": [],
   "source": [
    "def build_128_model():\n",
    "    input_img = Input(shape=(128,128,3), name='ImageInput')\n",
    "    x = Conv2D(filters=16, kernel_size=(3,3), activation=\"relu\",padding=\"same\", name=\"Conv1_1\")(input_img)\n",
    "    x = Conv2D(filters=16, kernel_size=(3,3), activation=\"relu\",padding=\"same\", name=\"Conv1_2\")(x)\n",
    "    x = BatchNormalization(name=\"bn_1\")(x)\n",
    "    x = MaxPooling2D(pool_size=(2,2),name=\"pool_1\")(x)\n",
    "    x = Dropout(rate=0.2)(x)\n",
    "    \n",
    "    x = Conv2D(filters=32, kernel_size=(3,3), activation=\"relu\",padding=\"same\", name=\"Conv2_1\")(x)\n",
    "    x = Conv2D(filters=32, kernel_size=(3,3), activation=\"relu\",padding=\"same\", name=\"Conv2_2\")(x)\n",
    "    x = BatchNormalization(name=\"bn_2\")(x)\n",
    "    x = MaxPooling2D(pool_size=(2,2),name=\"pool_2\")(x)\n",
    "    x = Dropout(rate=0.2)(x)\n",
    "    \n",
    "    x = Conv2D(filters=64, kernel_size=(3,3), activation=\"relu\",padding=\"same\", name=\"Conv3_1\")(x)\n",
    "    x = Conv2D(filters=64, kernel_size=(3,3), activation=\"relu\",padding=\"same\", name=\"Conv3_2\")(x)\n",
    "    x = BatchNormalization(name=\"bn_3\")(x)\n",
    "    x = MaxPooling2D(pool_size=(2,2),name=\"pool_3\")(x)\n",
    "    x = Dropout(rate=0.2)(x)\n",
    "    \n",
    "    x = Flatten()(x)\n",
    "    x = Dense(512,activation=\"relu\", name=\"fc_1\")(x)\n",
    "    x = BatchNormalization(name=\"bn_4\")(x)\n",
    "    x = Dropout(rate=0.3)(x)\n",
    "    x = Dense(256,activation=\"relu\", name=\"fc_2\")(x)\n",
    "    x = BatchNormalization(name=\"bn_5\")(x)\n",
    "    x = Dropout(rate=0.3)(x)\n",
    "    x = Dense(2,activation=\"softmax\",name=\"fc_3\")(x)\n",
    "    \n",
    "    model = Model(inputs=input_img, outputs=x)\n",
    "    return model    "
   ]
  },
  {
   "cell_type": "code",
   "execution_count": 69,
   "metadata": {},
   "outputs": [
    {
     "name": "stdout",
     "output_type": "stream",
     "text": [
      "_________________________________________________________________\n",
      "Layer (type)                 Output Shape              Param #   \n",
      "=================================================================\n",
      "ImageInput (InputLayer)      (None, 128, 128, 3)       0         \n",
      "_________________________________________________________________\n",
      "Conv1_1 (Conv2D)             (None, 128, 128, 16)      448       \n",
      "_________________________________________________________________\n",
      "Conv1_2 (Conv2D)             (None, 128, 128, 16)      2320      \n",
      "_________________________________________________________________\n",
      "bn_1 (BatchNormalization)    (None, 128, 128, 16)      64        \n",
      "_________________________________________________________________\n",
      "pool_1 (MaxPooling2D)        (None, 64, 64, 16)        0         \n",
      "_________________________________________________________________\n",
      "dropout_34 (Dropout)         (None, 64, 64, 16)        0         \n",
      "_________________________________________________________________\n",
      "Conv2_1 (Conv2D)             (None, 64, 64, 32)        4640      \n",
      "_________________________________________________________________\n",
      "Conv2_2 (Conv2D)             (None, 64, 64, 32)        9248      \n",
      "_________________________________________________________________\n",
      "bn_2 (BatchNormalization)    (None, 64, 64, 32)        128       \n",
      "_________________________________________________________________\n",
      "pool_2 (MaxPooling2D)        (None, 32, 32, 32)        0         \n",
      "_________________________________________________________________\n",
      "dropout_35 (Dropout)         (None, 32, 32, 32)        0         \n",
      "_________________________________________________________________\n",
      "Conv3_1 (Conv2D)             (None, 32, 32, 64)        18496     \n",
      "_________________________________________________________________\n",
      "Conv3_2 (Conv2D)             (None, 32, 32, 64)        36928     \n",
      "_________________________________________________________________\n",
      "bn_3 (BatchNormalization)    (None, 32, 32, 64)        256       \n",
      "_________________________________________________________________\n",
      "pool_3 (MaxPooling2D)        (None, 16, 16, 64)        0         \n",
      "_________________________________________________________________\n",
      "dropout_36 (Dropout)         (None, 16, 16, 64)        0         \n",
      "_________________________________________________________________\n",
      "flatten_8 (Flatten)          (None, 16384)             0         \n",
      "_________________________________________________________________\n",
      "fc_1 (Dense)                 (None, 512)               8389120   \n",
      "_________________________________________________________________\n",
      "bn_4 (BatchNormalization)    (None, 512)               2048      \n",
      "_________________________________________________________________\n",
      "dropout_37 (Dropout)         (None, 512)               0         \n",
      "_________________________________________________________________\n",
      "fc_2 (Dense)                 (None, 256)               131328    \n",
      "_________________________________________________________________\n",
      "bn_5 (BatchNormalization)    (None, 256)               1024      \n",
      "_________________________________________________________________\n",
      "dropout_38 (Dropout)         (None, 256)               0         \n",
      "_________________________________________________________________\n",
      "fc_3 (Dense)                 (None, 2)                 514       \n",
      "=================================================================\n",
      "Total params: 8,596,562\n",
      "Trainable params: 8,594,802\n",
      "Non-trainable params: 1,760\n",
      "_________________________________________________________________\n"
     ]
    }
   ],
   "source": [
    "model_128 = build_128_model()\n",
    "model_128.summary()"
   ]
  },
  {
   "cell_type": "code",
   "execution_count": 70,
   "metadata": {},
   "outputs": [],
   "source": [
    "# opt = RMSprop(lr=0.0001, decay=1e-6)\n",
    "opt = Adam(lr=0.0001, decay=1e-5)\n",
    "es = EarlyStopping(patience=5)\n",
    "chkpt = ModelCheckpoint(filepath='best_model_todate', save_best_only=True, save_weights_only=True)\n",
    "model_128.compile(loss='binary_crossentropy', metrics=['accuracy'],optimizer=opt)"
   ]
  },
  {
   "cell_type": "code",
   "execution_count": 71,
   "metadata": {},
   "outputs": [
    {
     "name": "stdout",
     "output_type": "stream",
     "text": [
      "Number of training and validation steps: 326 and 16\n"
     ]
    }
   ],
   "source": [
    "batch_size = 16\n",
    "nb_epochs = 20\n",
    "\n",
    "train_data_gen = data_gen(data=train_data, batch_size=batch_size, imsize=128)\n",
    "nb_train_steps = train_data.shape[0]//batch_size\n",
    "\n",
    "print(\"Number of training and validation steps: {} and {}\".format(nb_train_steps, len(valid_data)))"
   ]
  },
  {
   "cell_type": "code",
   "execution_count": 72,
   "metadata": {},
   "outputs": [
    {
     "name": "stdout",
     "output_type": "stream",
     "text": [
      "Found 16 images belonging to 2 classes.\n"
     ]
    }
   ],
   "source": [
    "gen = ImageDataGenerator()\n",
    "valid_batches = gen.flow_from_directory(\"chest_xray/val\", model_128.input_shape[1:3],color_mode=\"grayscale\", shuffle=True,seed=1,\n",
    "                                        batch_size=16)"
   ]
  },
  {
   "cell_type": "code",
   "execution_count": 78,
   "metadata": {},
   "outputs": [
    {
     "name": "stdout",
     "output_type": "stream",
     "text": [
      "Epoch 1/20\n",
      "326/326 [==============================] - 69s 212ms/step - loss: 0.0583 - acc: 0.9818 - val_loss: 1.8072 - val_acc: 0.5625\n",
      "Epoch 2/20\n",
      "326/326 [==============================] - 69s 212ms/step - loss: 0.0596 - acc: 0.9793 - val_loss: 0.7763 - val_acc: 0.7500\n",
      "Epoch 3/20\n",
      "326/326 [==============================] - 67s 207ms/step - loss: 0.0534 - acc: 0.9833 - val_loss: 1.3747 - val_acc: 0.5625\n",
      "Epoch 4/20\n",
      "326/326 [==============================] - 68s 209ms/step - loss: 0.0641 - acc: 0.9781 - val_loss: 0.4663 - val_acc: 0.8125\n",
      "Epoch 5/20\n",
      "326/326 [==============================] - 69s 210ms/step - loss: 0.0687 - acc: 0.9793 - val_loss: 0.9819 - val_acc: 0.8125\n",
      "Epoch 6/20\n",
      "326/326 [==============================] - 70s 214ms/step - loss: 0.0569 - acc: 0.9822 - val_loss: 0.2309 - val_acc: 0.8750\n",
      "Epoch 7/20\n",
      "326/326 [==============================] - 67s 206ms/step - loss: 0.0511 - acc: 0.9866 - val_loss: 0.8941 - val_acc: 0.6875\n",
      "Epoch 8/20\n",
      "326/326 [==============================] - 68s 210ms/step - loss: 0.0479 - acc: 0.9843 - val_loss: 2.1061 - val_acc: 0.5625\n",
      "Epoch 9/20\n",
      "326/326 [==============================] - 67s 207ms/step - loss: 0.0439 - acc: 0.9835 - val_loss: 0.1615 - val_acc: 0.9375\n",
      "Epoch 10/20\n",
      "326/326 [==============================] - 67s 205ms/step - loss: 0.0489 - acc: 0.9852 - val_loss: 2.3752 - val_acc: 0.6250\n",
      "Epoch 11/20\n",
      "326/326 [==============================] - 67s 204ms/step - loss: 0.0485 - acc: 0.9837 - val_loss: 0.8743 - val_acc: 0.7500\n",
      "Epoch 12/20\n",
      "326/326 [==============================] - 68s 209ms/step - loss: 0.0519 - acc: 0.9824 - val_loss: 0.5548 - val_acc: 0.8750\n",
      "Epoch 13/20\n",
      "326/326 [==============================] - 67s 207ms/step - loss: 0.0433 - acc: 0.9862 - val_loss: 0.1071 - val_acc: 1.0000\n",
      "Epoch 14/20\n",
      "326/326 [==============================] - 68s 208ms/step - loss: 0.0436 - acc: 0.9849 - val_loss: 0.2774 - val_acc: 0.8750\n",
      "Epoch 15/20\n",
      "326/326 [==============================] - 67s 205ms/step - loss: 0.0344 - acc: 0.9887 - val_loss: 0.1909 - val_acc: 0.8750\n",
      "Epoch 16/20\n",
      "326/326 [==============================] - 67s 207ms/step - loss: 0.0431 - acc: 0.9868 - val_loss: 0.2092 - val_acc: 0.8125\n",
      "Epoch 17/20\n",
      "326/326 [==============================] - 67s 207ms/step - loss: 0.0329 - acc: 0.9887 - val_loss: 0.0193 - val_acc: 1.0000\n",
      "Epoch 18/20\n",
      "326/326 [==============================] - 67s 206ms/step - loss: 0.0160 - acc: 0.9956 - val_loss: 0.0474 - val_acc: 1.0000\n",
      "Epoch 19/20\n",
      "326/326 [==============================] - 68s 208ms/step - loss: 0.0273 - acc: 0.9923 - val_loss: 0.1157 - val_acc: 0.9375- loss: 0.0253 - acc: \n",
      "Epoch 20/20\n",
      "326/326 [==============================] - 67s 206ms/step - loss: 0.0346 - acc: 0.9900 - val_loss: 0.0561 - val_acc: 1.0000\n"
     ]
    }
   ],
   "source": [
    "hist_128 = model_128.fit_generator(train_data_gen, epochs=nb_epochs, steps_per_epoch=nb_train_steps, validation_data=(valid_data, valid_labels) , callbacks=[es,chkpt])"
   ]
  },
  {
   "cell_type": "code",
   "execution_count": 79,
   "metadata": {},
   "outputs": [],
   "source": [
    "model_128.load_weights(\"best_model_todate\")"
   ]
  },
  {
   "cell_type": "code",
   "execution_count": 80,
   "metadata": {},
   "outputs": [
    {
     "name": "stdout",
     "output_type": "stream",
     "text": [
      "Total number of test examples:  (624, 128, 128, 3)\n",
      "Total number of labels: (624, 2)\n"
     ]
    }
   ],
   "source": [
    "# Preparing test data\n",
    "normal_cases_dir = test_dir / 'NORMAL'\n",
    "pneumonia_cases_dir = test_dir / 'PNEUMONIA'\n",
    "\n",
    "normal_cases = normal_cases_dir.glob('*.jpeg')\n",
    "pneumonia_cases = pneumonia_cases_dir.glob('*.jpeg')\n",
    "\n",
    "test_data = []\n",
    "test_labels = []\n",
    "\n",
    "for img in normal_cases:\n",
    "    img = cv2.imread(str(img))\n",
    "    img = cv2.resize(img, (128,128))\n",
    "    if img.shape[2] ==1:\n",
    "        img = np.dstack([img, img, img])\n",
    "    else:\n",
    "        img = cv2.cvtColor(img, cv2.COLOR_BGR2RGB)\n",
    "    img = img.astype(np.float32)/255.\n",
    "    label = to_categorical(0, num_classes=2)\n",
    "    test_data.append(img)\n",
    "    test_labels.append(label)\n",
    "                      \n",
    "for img in pneumonia_cases:\n",
    "    img = cv2.imread(str(img))\n",
    "    img = cv2.resize(img, (128,128))\n",
    "    if img.shape[2] ==1:\n",
    "        img = np.dstack([img, img, img])\n",
    "    else:\n",
    "        img = cv2.cvtColor(img, cv2.COLOR_BGR2RGB)\n",
    "    img = img.astype(np.float32)/255.\n",
    "    label = to_categorical(1, num_classes=2)\n",
    "    test_data.append(img)\n",
    "    test_labels.append(label)\n",
    "    \n",
    "\n",
    "test_data = np.array(test_data)\n",
    "test_labels = np.array(test_labels)\n",
    "\n",
    "print(\"Total number of test examples: \", test_data.shape)\n",
    "print(\"Total number of labels:\", test_labels.shape)"
   ]
  },
  {
   "cell_type": "code",
   "execution_count": 81,
   "metadata": {},
   "outputs": [
    {
     "name": "stdout",
     "output_type": "stream",
     "text": [
      "624/624 [==============================] - 1s 1ms/step\n",
      "Loss on test set:  1.173952668516181\n",
      "Accuracy on test set:  0.7900641025641025\n"
     ]
    }
   ],
   "source": [
    "# Evaluation on test dataset\n",
    "test_loss, test_score = model_128.evaluate(test_data, test_labels, batch_size=16)\n",
    "print(\"Loss on test set: \", test_loss)\n",
    "print(\"Accuracy on test set: \", test_score)"
   ]
  },
  {
   "cell_type": "code",
   "execution_count": 82,
   "metadata": {},
   "outputs": [
    {
     "name": "stdout",
     "output_type": "stream",
     "text": [
      "(624,)\n",
      "(624,)\n"
     ]
    }
   ],
   "source": [
    "# Get predictions\n",
    "preds = model_128.predict(test_data, batch_size=16)\n",
    "preds = np.argmax(preds, axis=-1)\n",
    "\n",
    "# Original labels\n",
    "orig_test_labels = np.argmax(test_labels, axis=-1)\n",
    "\n",
    "print(orig_test_labels.shape)\n",
    "print(preds.shape)"
   ]
  },
  {
   "cell_type": "code",
   "execution_count": 84,
   "metadata": {},
   "outputs": [
    {
     "data": {
      "text/plain": [
       "<Figure size 432x288 with 0 Axes>"
      ]
     },
     "metadata": {},
     "output_type": "display_data"
    },
    {
     "data": {
      "image/png": "[encoded data removed]",
      "text/plain": [
       "<Figure size 864x576 with 1 Axes>"
      ]
     },
     "metadata": {
      "needs_background": "light"
     },
     "output_type": "display_data"
    }
   ],
   "source": [
    "# Get the confusion matrix\n",
    "cm  = confusion_matrix(orig_test_labels, preds)\n",
    "plt.figure()\n",
    "plot_confusion_matrix(cm,figsize=(12,8), hide_ticks=True,cmap=plt.cm.Blues)\n",
    "plt.xticks(range(2), ['Normal', 'Pneumonia'], fontsize=16)\n",
    "plt.yticks(range(2), ['Normal', 'Pneumonia'], fontsize=16)\n",
    "plt.show()"
   ]
  },
  {
   "cell_type": "code",
   "execution_count": 85,
   "metadata": {},
   "outputs": [
    {
     "name": "stdout",
     "output_type": "stream",
     "text": [
      "Recall of the model is 0.98\n",
      "Precision of the model is 0.76\n"
     ]
    }
   ],
   "source": [
    "# Calculate Precision and Recall\n",
    "tn, fp, fn, tp = cm.ravel()\n",
    "\n",
    "precision = tp/(tp+fp)\n",
    "recall = tp/(tp+fn)\n",
    "\n",
    "print(\"Recall of the model is {:.2f}\".format(recall))\n",
    "print(\"Precision of the model is {:.2f}\".format(precision))"
   ]
  },
  {
   "cell_type": "code",
   "execution_count": 86,
   "metadata": {},
   "outputs": [
    {
     "name": "stdout",
     "output_type": "stream",
     "text": [
      "Total number of validation examples:  (16, 64, 64, 3)\n",
      "Total number of labels: (16, 2)\n"
     ]
    }
   ],
   "source": [
    "# Get the path to the sub-directories\n",
    "normal_cases_dir = val_dir / 'NORMAL'\n",
    "pneumonia_cases_dir = val_dir / 'PNEUMONIA'\n",
    "\n",
    "# Get the list of all the images\n",
    "normal_cases = normal_cases_dir.glob('*.jpeg')\n",
    "pneumonia_cases = pneumonia_cases_dir.glob('*.jpeg')\n",
    "\n",
    "# List that are going to contain validation images data and the corresponding labels\n",
    "valid_data_64 = []\n",
    "valid_labels_64 = []\n",
    "\n",
    "\n",
    "# Some images are in grayscale while majority of them contains 3 channels. So, if the image is grayscale, we will convert into a image with 3 channels.\n",
    "# We will normalize the pixel values and resizing all the images to 224x224 \n",
    "\n",
    "# Normal cases\n",
    "for img in normal_cases:\n",
    "    img = cv2.imread(str(img))\n",
    "    img = cv2.resize(img, (64,64))\n",
    "    if img.shape[2] ==1:\n",
    "        img = np.dstack([img, img, img])\n",
    "    img = cv2.cvtColor(img, cv2.COLOR_BGR2RGB)\n",
    "    img = img.astype(np.float32)/255.\n",
    "    label = to_categorical(0, num_classes=2)\n",
    "    valid_data_64.append(img)\n",
    "    valid_labels_64.append(label)\n",
    "                      \n",
    "# Pneumonia cases        \n",
    "for img in pneumonia_cases:\n",
    "    img = cv2.imread(str(img))\n",
    "    img = cv2.resize(img, (64,64))\n",
    "    if img.shape[2] ==1:\n",
    "        img = np.dstack([img, img, img])\n",
    "    img = cv2.cvtColor(img, cv2.COLOR_BGR2RGB)\n",
    "    img = img.astype(np.float32)/255.\n",
    "    label = to_categorical(1, num_classes=2)\n",
    "    valid_data_64.append(img)\n",
    "    valid_labels_64.append(label)\n",
    "    \n",
    "# Convert the list into numpy arrays\n",
    "valid_data_64 = np.array(valid_data_64)\n",
    "valid_labels_64 = np.array(valid_labels_64)\n",
    "\n",
    "print(\"Total number of validation examples: \", valid_data_64.shape)\n",
    "print(\"Total number of labels:\", valid_labels_64.shape)"
   ]
  },
  {
   "cell_type": "code",
   "execution_count": 89,
   "metadata": {},
   "outputs": [],
   "source": [
    "def build_64_model():\n",
    "    input_img = Input(shape=(64,64,3), name='ImageInput')\n",
    "    x = Conv2D(filters=32, kernel_size=(3,3), activation=\"relu\",padding=\"same\", name=\"Conv1_1\")(input_img)\n",
    "    x = Conv2D(filters=32, kernel_size=(3,3), activation=\"relu\",padding=\"same\", name=\"Conv1_2\")(x)\n",
    "    x = BatchNormalization(name=\"bn_1\")(x)\n",
    "    x = MaxPooling2D(pool_size=(2,2),name=\"pool_1\")(x)\n",
    "    x = Dropout(rate=0.2)(x)\n",
    "    \n",
    "    x = Conv2D(filters=64, kernel_size=(3,3), activation=\"relu\",padding=\"same\", name=\"Conv2_1\")(x)\n",
    "    x = Conv2D(filters=64, kernel_size=(3,3), activation=\"relu\",padding=\"same\", name=\"Conv2_2\")(x)\n",
    "    x = BatchNormalization(name=\"bn_2\")(x)\n",
    "    x = MaxPooling2D(pool_size=(2,2),name=\"pool_2\")(x)\n",
    "    x = Dropout(rate=0.2)(x)\n",
    "    \n",
    "    x = Flatten()(x)\n",
    "    x = Dense(256,activation=\"relu\", name=\"fc_1\")(x)\n",
    "    x = BatchNormalization(name=\"bn_3\")(x)\n",
    "    x = Dropout(rate=0.3)(x)\n",
    "    x = Dense(2,activation=\"softmax\",name=\"fc_2\")(x)\n",
    "    \n",
    "    model = Model(inputs=input_img, outputs=x)\n",
    "    return model    "
   ]
  },
  {
   "cell_type": "code",
   "execution_count": 90,
   "metadata": {},
   "outputs": [
    {
     "name": "stdout",
     "output_type": "stream",
     "text": [
      "_________________________________________________________________\n",
      "Layer (type)                 Output Shape              Param #   \n",
      "=================================================================\n",
      "ImageInput (InputLayer)      (None, 64, 64, 3)         0         \n",
      "_________________________________________________________________\n",
      "Conv1_1 (Conv2D)             (None, 64, 64, 32)        896       \n",
      "_________________________________________________________________\n",
      "Conv1_2 (Conv2D)             (None, 64, 64, 32)        9248      \n",
      "_________________________________________________________________\n",
      "bn_1 (BatchNormalization)    (None, 64, 64, 32)        128       \n",
      "_________________________________________________________________\n",
      "pool_1 (MaxPooling2D)        (None, 32, 32, 32)        0         \n",
      "_________________________________________________________________\n",
      "dropout_42 (Dropout)         (None, 32, 32, 32)        0         \n",
      "_________________________________________________________________\n",
      "Conv2_1 (Conv2D)             (None, 32, 32, 64)        18496     \n",
      "_________________________________________________________________\n",
      "Conv2_2 (Conv2D)             (None, 32, 32, 64)        36928     \n",
      "_________________________________________________________________\n",
      "bn_2 (BatchNormalization)    (None, 32, 32, 64)        256       \n",
      "_________________________________________________________________\n",
      "pool_2 (MaxPooling2D)        (None, 16, 16, 64)        0         \n",
      "_________________________________________________________________\n",
      "dropout_43 (Dropout)         (None, 16, 16, 64)        0         \n",
      "_________________________________________________________________\n",
      "flatten_10 (Flatten)         (None, 16384)             0         \n",
      "_________________________________________________________________\n",
      "fc_1 (Dense)                 (None, 256)               4194560   \n",
      "_________________________________________________________________\n",
      "bn_3 (BatchNormalization)    (None, 256)               1024      \n",
      "_________________________________________________________________\n",
      "dropout_44 (Dropout)         (None, 256)               0         \n",
      "_________________________________________________________________\n",
      "fc_2 (Dense)                 (None, 2)                 514       \n",
      "=================================================================\n",
      "Total params: 4,262,050\n",
      "Trainable params: 4,261,346\n",
      "Non-trainable params: 704\n",
      "_________________________________________________________________\n"
     ]
    }
   ],
   "source": [
    "model_64 = build_64_model()\n",
    "model_64.summary()"
   ]
  },
  {
   "cell_type": "code",
   "execution_count": 91,
   "metadata": {},
   "outputs": [],
   "source": [
    "opt = Adam(lr=0.0001, decay=1e-5)\n",
    "es = EarlyStopping(patience=5)\n",
    "chkpt = ModelCheckpoint(filepath='best_model_64_todate', save_best_only=True, save_weights_only=True)\n",
    "model_64.compile(loss='binary_crossentropy', metrics=['accuracy'],optimizer=opt)"
   ]
  },
  {
   "cell_type": "code",
   "execution_count": 92,
   "metadata": {},
   "outputs": [
    {
     "name": "stdout",
     "output_type": "stream",
     "text": [
      "Number of training and validation steps: 326 and 16\n"
     ]
    }
   ],
   "source": [
    "batch_size = 16\n",
    "nb_epochs = 20\n",
    "\n",
    "train_data_gen_64 = data_gen(data=train_data, batch_size=batch_size, imsize=64)\n",
    "nb_train_steps = train_data.shape[0]//batch_size\n",
    "\n",
    "print(\"Number of training and validation steps: {} and {}\".format(nb_train_steps, len(valid_data)))"
   ]
  },
  {
   "cell_type": "code",
   "execution_count": 93,
   "metadata": {},
   "outputs": [
    {
     "name": "stdout",
     "output_type": "stream",
     "text": [
      "Epoch 1/20\n",
      "326/326 [==============================] - 288s 884ms/step - loss: 0.2240 - acc: 0.9183 - val_loss: 1.0168 - val_acc: 0.5625\n",
      "Epoch 2/20\n",
      "326/326 [==============================] - 71s 219ms/step - loss: 0.1569 - acc: 0.9444 - val_loss: 0.2811 - val_acc: 0.8125\n",
      "Epoch 3/20\n",
      "326/326 [==============================] - 71s 219ms/step - loss: 0.1238 - acc: 0.9525 - val_loss: 1.7445 - val_acc: 0.5000\n",
      "Epoch 4/20\n",
      "326/326 [==============================] - 75s 229ms/step - loss: 0.1124 - acc: 0.9599 - val_loss: 0.2883 - val_acc: 0.8750\n",
      "Epoch 5/20\n",
      "326/326 [==============================] - 70s 214ms/step - loss: 0.0968 - acc: 0.9659 - val_loss: 1.5333 - val_acc: 0.5625\n",
      "Epoch 6/20\n",
      "326/326 [==============================] - 74s 228ms/step - loss: 0.1025 - acc: 0.9643 - val_loss: 0.9290 - val_acc: 0.6250\n",
      "Epoch 7/20\n",
      "326/326 [==============================] - 74s 227ms/step - loss: 0.1004 - acc: 0.9661 - val_loss: 0.5206 - val_acc: 0.6875\n"
     ]
    }
   ],
   "source": [
    "hist_64 = model_64.fit_generator(train_data_gen_64, epochs=nb_epochs, steps_per_epoch=nb_train_steps, validation_data=(valid_data_64, valid_labels_64) , callbacks=[es,chkpt])"
   ]
  },
  {
   "cell_type": "code",
   "execution_count": 94,
   "metadata": {},
   "outputs": [],
   "source": [
    "model_64.load_weights(\"best_model_64_todate\")"
   ]
  },
  {
   "cell_type": "code",
   "execution_count": 95,
   "metadata": {},
   "outputs": [
    {
     "name": "stdout",
     "output_type": "stream",
     "text": [
      "Total number of test examples:  (624, 64, 64, 3)\n",
      "Total number of labels: (624, 2)\n"
     ]
    }
   ],
   "source": [
    "# Preparing test data\n",
    "normal_cases_dir = test_dir / 'NORMAL'\n",
    "pneumonia_cases_dir = test_dir / 'PNEUMONIA'\n",
    "\n",
    "normal_cases = normal_cases_dir.glob('*.jpeg')\n",
    "pneumonia_cases = pneumonia_cases_dir.glob('*.jpeg')\n",
    "\n",
    "test_data = []\n",
    "test_labels = []\n",
    "\n",
    "for img in normal_cases:\n",
    "    img = cv2.imread(str(img))\n",
    "    img = cv2.resize(img, (64,64))\n",
    "    if img.shape[2] ==1:\n",
    "        img = np.dstack([img, img, img])\n",
    "    else:\n",
    "        img = cv2.cvtColor(img, cv2.COLOR_BGR2RGB)\n",
    "    img = img.astype(np.float32)/255.\n",
    "    label = to_categorical(0, num_classes=2)\n",
    "    test_data.append(img)\n",
    "    test_labels.append(label)\n",
    "                      \n",
    "for img in pneumonia_cases:\n",
    "    img = cv2.imread(str(img))\n",
    "    img = cv2.resize(img, (64,64))\n",
    "    if img.shape[2] ==1:\n",
    "        img = np.dstack([img, img, img])\n",
    "    else:\n",
    "        img = cv2.cvtColor(img, cv2.COLOR_BGR2RGB)\n",
    "    img = img.astype(np.float32)/255.\n",
    "    label = to_categorical(1, num_classes=2)\n",
    "    test_data.append(img)\n",
    "    test_labels.append(label)\n",
    "    \n",
    "\n",
    "test_data = np.array(test_data)\n",
    "test_labels = np.array(test_labels)\n",
    "\n",
    "print(\"Total number of test examples: \", test_data.shape)\n",
    "print(\"Total number of labels:\", test_labels.shape)"
   ]
  },
  {
   "cell_type": "code",
   "execution_count": 96,
   "metadata": {},
   "outputs": [
    {
     "name": "stdout",
     "output_type": "stream",
     "text": [
      "624/624 [==============================] - 1s 943us/step\n",
      "Loss on test set:  0.503340585825917\n",
      "Accuracy on test set:  0.8044871794871795\n"
     ]
    }
   ],
   "source": [
    "# Evaluation on test dataset\n",
    "test_loss, test_score = model_64.evaluate(test_data, test_labels, batch_size=16)\n",
    "print(\"Loss on test set: \", test_loss)\n",
    "print(\"Accuracy on test set: \", test_score)"
   ]
  },
  {
   "cell_type": "code",
   "execution_count": 97,
   "metadata": {},
   "outputs": [
    {
     "name": "stdout",
     "output_type": "stream",
     "text": [
      "(624,)\n",
      "(624,)\n"
     ]
    }
   ],
   "source": [
    "# Get predictions\n",
    "preds = model_64.predict(test_data, batch_size=16)\n",
    "preds = np.argmax(preds, axis=-1)\n",
    "\n",
    "# Original labels\n",
    "orig_test_labels = np.argmax(test_labels, axis=-1)\n",
    "\n",
    "print(orig_test_labels.shape)\n",
    "print(preds.shape)"
   ]
  },
  {
   "cell_type": "code",
   "execution_count": 98,
   "metadata": {},
   "outputs": [
    {
     "data": {
      "text/plain": [
       "<Figure size 432x288 with 0 Axes>"
      ]
     },
     "metadata": {},
     "output_type": "display_data"
    },
    {
     "data": {
      "image/png": "[encoded data removed]",
      "text/plain": [
       "<Figure size 864x576 with 1 Axes>"
      ]
     },
     "metadata": {
      "needs_background": "light"
     },
     "output_type": "display_data"
    }
   ],
   "source": [
    "# Get the confusion matrix\n",
    "cm  = confusion_matrix(orig_test_labels, preds)\n",
    "plt.figure()\n",
    "plot_confusion_matrix(cm,figsize=(12,8), hide_ticks=True,cmap=plt.cm.Blues)\n",
    "plt.xticks(range(2), ['Normal', 'Pneumonia'], fontsize=16)\n",
    "plt.yticks(range(2), ['Normal', 'Pneumonia'], fontsize=16)\n",
    "plt.show()"
   ]
  },
  {
   "cell_type": "code",
   "execution_count": 99,
   "metadata": {},
   "outputs": [
    {
     "name": "stdout",
     "output_type": "stream",
     "text": [
      "Recall of the model is 0.97\n",
      "Precision of the model is 0.77\n"
     ]
    }
   ],
   "source": [
    "# Calculate Precision and Recall\n",
    "tn, fp, fn, tp = cm.ravel()\n",
    "\n",
    "precision = tp/(tp+fp)\n",
    "recall = tp/(tp+fn)\n",
    "\n",
    "print(\"Recall of the model is {:.2f}\".format(recall))\n",
    "print(\"Precision of the model is {:.2f}\".format(precision))"
   ]
  },
  {
   "cell_type": "code",
   "execution_count": null,
   "metadata": {},
   "outputs": [],
   "source": []
  }
 ],
 "metadata": {
  "kernelspec": {
   "display_name": "Python 3",
   "language": "python",
   "name": "python3"
  },
  "language_info": {
   "codemirror_mode": {
    "name": "ipython",
    "version": 3
   },
   "file_extension": ".py",
   "mimetype": "text/x-python",
   "name": "python",
   "nbconvert_exporter": "python",
   "pygments_lexer": "ipython3",
   "version": "3.5.5"
  }
 },
 "nbformat": 4,
 "nbformat_minor": 2
}
